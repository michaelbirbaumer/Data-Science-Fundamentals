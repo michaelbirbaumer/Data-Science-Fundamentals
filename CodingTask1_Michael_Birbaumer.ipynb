{
  "nbformat": 4,
  "nbformat_minor": 0,
  "metadata": {
    "colab": {
      "name": "CodingTask1_Michael_Birbaumer.ipynb",
      "provenance": [],
      "collapsed_sections": []
    },
    "kernelspec": {
      "name": "python3",
      "display_name": "Python 3"
    },
    "language_info": {
      "name": "python"
    }
  },
  "cells": [
    {
      "cell_type": "markdown",
      "source": [
        "Data Science Fundamentals for DCBP, S. Haug, University of Bern "
      ],
      "metadata": {
        "id": "_-1mhuoK6uqC"
      }
    },
    {
      "cell_type": "markdown",
      "source": [
        "# Coding Task 1\n",
        "\n",
        "- Deadline (upload to Ilias): 2022-03-20 24:00\n",
        "- Estimated effort: 2-5 hours\n",
        "- Data on Ilias (4ms_...) with metadata file CCD-Metadata\n"
      ],
      "metadata": {
        "id": "gn4RkUC66-ou"
      }
    },
    {
      "cell_type": "markdown",
      "source": [
        "## Tasks (maximum 12.5 points)"
      ],
      "metadata": {
        "id": "KYKF2iS56v1z"
      }
    },
    {
      "cell_type": "markdown",
      "source": [
        "- Write a method (function) which removes the header information in the datafile and saves that information into a separate textfile. [0.5 points] \n",
        "- Write a function which reduces the data resolution by averaging over 1, 2, 3 and 4 nm wavelengths. Save these 4 new reduced datasets in new files. Do this (1) by writing an explicit loop and (2) by using pandas methods. Measure the running times of the two approaches. [6 points]\n",
        "- Write a function which takes two wavelengths as input and plots the difference of the data at these lengths over time. [2 points] \n",
        "- Let the x-axis be in seconds, label the axes with names and units, label the plot with color and legend, make a title for the plot. Save the plot to a file. [2 points]\n",
        "- Plot the full and the reduced datasets in the same figure. Is there any visual difference? [2 points]"
      ],
      "metadata": {
        "id": "rXqhhPMu9aPx"
      }
    },
    {
      "cell_type": "code",
      "source": [
        "\"\"\"\n",
        "TASK 1: \n",
        "Write a method (function) which removes the header information in the datafile \n",
        "and saves that information into a separate textfile. [0.5 points]\n",
        "\"\"\"\n",
        "\n",
        "import os\n",
        "from pathlib import Path\n",
        "import matplotlib.pyplot as plt\n",
        "import numpy as np\n",
        "import pandas as pd\n",
        "\n",
        "path = (r'C:\\Users\\micha\\Documents\\6. Semester (FS 2022)\\Data Science Fundamentals\\CodingTask1\\Data\\Absorbance.txt')\n",
        "df = pd.read_csv(path, delimiter = '\\t', header = [13])\n",
        "\n",
        "def header_remover():\n",
        "    header = ''\n",
        "    with open (path, 'r') as a:\n",
        "      DataTemp = a.readlines()\n",
        "    for i in range (13):\n",
        "      header = header + str(DataTemp[i])\n",
        "    file = open('header.txt', 'w')\n",
        "    file.write(header)\n",
        "    file.close()\n",
        "    a.close\n",
        "    \n",
        "header_remover()\n",
        "\n",
        "print(df)\n",
        "\n",
        "\n",
        "\"\"\"\n",
        "TASK 2: \n",
        "Write a function which reduces the data resolution by averaging over 1, 2, 3 and 4 nm wavelengths. \n",
        "Save these 4 new reduced datasets in new files. \n",
        "Do this (1) by writing an explicit loop and (2) by using pandas methods. \n",
        "Measure the running times of the two approaches. [6 points]\n",
        "\"\"\"\n",
        "\n",
        "# ???\n",
        "\n",
        "# For measuring the running time:\n",
        "\n",
        "%%timeit -n 1000 -r 5\n",
        "\n",
        "# (1000 = number of loops measured and divided by, 5 = amount of repetitions, shortest measured time is reported)\n",
        "\n",
        "\n",
        "\"\"\"\n",
        "TASK 3: \n",
        "Write a function which takes two wavelengths as input \n",
        "and plots the difference of the data at these lengths over time. [2 points]\n",
        "\"\"\"\n",
        "\n",
        "\n",
        "df = df.drop(columns = \"Unnamed: 0\")\n",
        "df = df.rename(columns = {\"Unnamed: 1\": \"time\"})\n",
        "time = df.iloc[:,0]\n",
        "time_zero = time[0]\n",
        "for i in range(len(time)):\n",
        "  time[i] = time[i] - time_zero\n",
        "\n",
        "\n",
        "\"\"\"\n",
        "TASK 4: \n",
        "Let the x-axis be in seconds, label the axes with names and units, \n",
        "label the plot with color and legend, make a title for the plot. \n",
        "Save the plot to a file. [2 points]\n",
        "\"\"\"\n",
        "\n",
        "\n",
        "x = (df.iloc[:,0])/1000 # (converts milliseconds into seconds)\n",
        "y_difference = -(df.iloc[:1950]-df.iloc[:,1800])\n",
        "\n",
        "plt.xlabel('Time (s)')\n",
        "plt.ylabel('Difference in intensity (a.u.)')\n",
        "\n",
        "plt.plot(x, y_difference, color='blue', label = 'Difference in intensity over time')\n",
        "plt.legend()\n",
        "\n",
        "plt.title('A descriptive title')\n",
        "\n",
        "plt.savefig(r'C:\\Users\\micha\\Documents\\6. Semester (FS 2022)\\Data Science Fundamentals\\CodingTask1\\Data\\Plot.png')\n",
        "\n",
        "\n",
        "\"\"\"\n",
        "TASK 5: \n",
        "Plot the full and the reduced datasets in the same figure. \n",
        "Is there any visual difference? [2 points]\n",
        "\"\"\"\n",
        "\n",
        "\n",
        "x = (df.iloc[:,0])/1000\n",
        "y = df.iloc[:, 1950]\n",
        "# y_reduced = ...\n",
        "\n",
        "# \"Subsequent error\" because I was not able to solve task 2 to get the data for plotting\n",
        "\n",
        "\n",
        "plt.title('Comparison of the full and reduced data')\n",
        "plt.xlabel('Time (s)')\n",
        "plt.ylabel('Intensity (a.u.)')\n",
        "\n",
        "plt.plot(x, y_difference, color='blue', label = 'Difference in intensity over time')\n",
        "# plt.plot(x, y_reduced, color='green', label = 'Data with lower resolution')\n",
        "\n",
        "plt.legend()\n",
        "plt.show()"
      ],
      "metadata": {
        "id": "aYTgld5P9Ghf"
      },
      "execution_count": null,
      "outputs": []
    }
  ]
}